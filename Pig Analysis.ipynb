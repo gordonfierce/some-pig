{
 "metadata": {
  "name": "",
  "signature": "sha256:a72b7b6a14cec7ddbc6e222fd304a08614af5503a81c5fc0b766f2e6c3127b1a"
 },
 "nbformat": 3,
 "nbformat_minor": 0,
 "worksheets": [
  {
   "cells": [
    {
     "cell_type": "code",
     "collapsed": false,
     "input": [
      "import matplotlib.pylab as plt\n",
      "import statistics\n",
      "import random\n",
      "import math\n",
      "import seaborn as sns"
     ],
     "language": "python",
     "metadata": {},
     "outputs": [],
     "prompt_number": 102
    },
    {
     "cell_type": "code",
     "collapsed": false,
     "input": [
      "%matplotlib inline"
     ],
     "language": "python",
     "metadata": {},
     "outputs": [],
     "prompt_number": 103
    },
    {
     "cell_type": "code",
     "collapsed": false,
     "input": [
      "def diceroll():\n",
      "    return random.randint(1,6)"
     ],
     "language": "python",
     "metadata": {},
     "outputs": [],
     "prompt_number": 104
    },
    {
     "cell_type": "code",
     "collapsed": false,
     "input": [
      "class Player():\n",
      "    \"\"\"The most basic player of pig. Always stands.\"\"\"\n",
      "    def __init__(self, score=0):\n",
      "        self.score = score\n",
      "        pass\n",
      "    \n",
      "    def hit_or_stand(self, current_sum):\n",
      "        return \"stand\"\n",
      "    \n",
      "    def update_score(self, round_score):\n",
      "        self.score += round_score\n",
      "        \n",
      "    def reset_score(self):\n",
      "        self.score = 0\n",
      "    "
     ],
     "language": "python",
     "metadata": {},
     "outputs": [],
     "prompt_number": 105
    },
    {
     "cell_type": "code",
     "collapsed": false,
     "input": [
      "class Game():\n",
      "    \"\"\"Responsibilities:\n",
      "    * Rolls the die.\n",
      "    * Gets decision from the Player\n",
      "    * Updates the Player's score\n",
      "    * Ends the game after a certain amount of time.\n",
      "    \n",
      "    Collaborators:\n",
      "    * Player\"\"\"\n",
      "    def __init__(self, player, lengthgame=7):\n",
      "        self.player = player\n",
      "        self.length = lengthgame\n",
      "    \n",
      "    def play(self):\n",
      "        for _ in range(self.length):\n",
      "            roll = diceroll()\n",
      "            rolled_one = False\n",
      "            if roll is 1:  \n",
      "                continue\n",
      "            while self.player.hit_or_stand(roll) is \"hit\":\n",
      "                new_roll = diceroll()\n",
      "                if new_roll is 1:\n",
      "                    rolled_one = True\n",
      "                    break\n",
      "                roll += new_roll\n",
      "            if not rolled_one:\n",
      "                self.player.score += roll\n",
      "        return self.player.score\n",
      "    \n",
      "    def reset_game(self):\n",
      "        self.player.reset_score()\n",
      "            "
     ],
     "language": "python",
     "metadata": {},
     "outputs": [],
     "prompt_number": 106
    },
    {
     "cell_type": "code",
     "collapsed": false,
     "input": [
      "my_player = Player()\n",
      "my_game = Game(my_player)\n",
      "result = my_game.play()\n",
      "print(result)\n",
      "my_game.reset_game()"
     ],
     "language": "python",
     "metadata": {},
     "outputs": [
      {
       "output_type": "stream",
       "stream": "stdout",
       "text": [
        "28\n"
       ]
      }
     ],
     "prompt_number": 107
    },
    {
     "cell_type": "markdown",
     "metadata": {},
     "source": [
      "So now that we have a working game loop, let's see some stats on the basic player."
     ]
    },
    {
     "cell_type": "code",
     "collapsed": false,
     "input": [
      "basic_player_game_results = []\n",
      "my_game.reset_game()\n",
      "for _ in range(200):\n",
      "    basic_player_game_results.append(my_game.play())\n",
      "    my_game.reset_game()\n",
      "    \n",
      "print(basic_player_game_results)"
     ],
     "language": "python",
     "metadata": {},
     "outputs": [
      {
       "output_type": "stream",
       "stream": "stdout",
       "text": [
        "[19, 17, 25, 18, 24, 32, 29, 27, 21, 34, 23, 23, 22, 19, 17, 23, 26, 24, 19, 21, 24, 13, 27, 24, 19, 29, 19, 13, 20, 17, 11, 34, 13, 24, 23, 19, 29, 19, 26, 20, 14, 23, 12, 26, 21, 27, 18, 27, 29, 21, 33, 23, 37, 22, 18, 19, 18, 16, 28, 23, 24, 27, 33, 23, 21, 23, 27, 24, 17, 23, 26, 31, 22, 31, 23, 27, 20, 18, 23, 25, 27, 19, 24, 27, 30, 21, 25, 16, 23, 19, 27, 25, 21, 24, 21, 28, 25, 21, 20, 30, 23, 31, 36, 28, 24, 26, 11, 25, 16, 23, 32, 29, 27, 26, 19, 31, 28, 19, 23, 27, 22, 27, 19, 33, 26, 24, 26, 24, 24, 15, 22, 25, 24, 17, 19, 21, 25, 27, 24, 26, 19, 26, 26, 23, 24, 31, 25, 15, 16, 25, 17, 16, 20, 25, 18, 17, 22, 21, 18, 25, 22, 32, 28, 37, 18, 28, 22, 24, 24, 17, 28, 19, 15, 31, 17, 31, 33, 23, 22, 24, 20, 24, 16, 21, 24, 29, 29, 24, 24, 25, 17, 26, 14, 28, 28, 19, 25, 25, 19, 34]\n"
       ]
      }
     ],
     "prompt_number": 108
    },
    {
     "cell_type": "code",
     "collapsed": false,
     "input": [
      "plt.boxplot(basic_player_game_results)\n",
      "ymin, ymax = plt.ylim()\n",
      "plt.ylim(0, ymax + 10)\n",
      "plt.show()"
     ],
     "language": "python",
     "metadata": {},
     "outputs": [
      {
       "metadata": {},
       "output_type": "display_data",
       "png": "[encoded data removed]",
       "text": [
        "<matplotlib.figure.Figure at 0x10c448a90>"
       ]
      }
     ],
     "prompt_number": 110
    },
    {
     "cell_type": "code",
     "collapsed": false,
     "input": [],
     "language": "python",
     "metadata": {},
     "outputs": [],
     "prompt_number": 109
    }
   ],
   "metadata": {}
  }
 ]
}