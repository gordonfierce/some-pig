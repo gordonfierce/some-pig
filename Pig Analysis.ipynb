{
 "metadata": {
  "name": "",
  "signature": "sha256:d3edc4a107858a0e989d2fb8f353d2df8465d4ff7bc5781077f78ad5ecb7b88a"
 },
 "nbformat": 3,
 "nbformat_minor": 0,
 "worksheets": [
  {
   "cells": [
    {
     "cell_type": "code",
     "collapsed": false,
     "input": [
      "import matplotlib.pylab as plt\n",
      "import statistics\n",
      "import random\n",
      "import math\n",
      "import seaborn as sns"
     ],
     "language": "python",
     "metadata": {},
     "outputs": [],
     "prompt_number": 436
    },
    {
     "cell_type": "code",
     "collapsed": false,
     "input": [
      "%matplotlib inline"
     ],
     "language": "python",
     "metadata": {},
     "outputs": [],
     "prompt_number": 437
    },
    {
     "cell_type": "code",
     "collapsed": false,
     "input": [
      "def diceroll():\n",
      "    return random.randint(1,6)"
     ],
     "language": "python",
     "metadata": {},
     "outputs": [],
     "prompt_number": 438
    },
    {
     "cell_type": "code",
     "collapsed": false,
     "input": [
      "class Player():\n",
      "    \"\"\"The most basic player of pig. Always stands.\"\"\"\n",
      "    def __init__(self, score=0):\n",
      "        self.score = score\n",
      "    \n",
      "    def hit_or_stand(self, current_sum, num_rolls):\n",
      "        return \"stand\"\n",
      "    \n",
      "    def update_score(self, round_score):\n",
      "        self.score += round_score\n",
      "        \n",
      "    def reset_score(self):\n",
      "        self.score = 0\n",
      "    "
     ],
     "language": "python",
     "metadata": {},
     "outputs": [],
     "prompt_number": 439
    },
    {
     "cell_type": "code",
     "collapsed": false,
     "input": [
      "class Game():\n",
      "    \"\"\"Responsibilities:\n",
      "    * Rolls the die.\n",
      "    * Gets decision from the Player\n",
      "    * Updates the Player's score\n",
      "    * Ends the game after a certain amount of time.\n",
      "    \n",
      "    Collaborators:\n",
      "    * Player\"\"\"\n",
      "    def __init__(self, player, lengthgame=7):\n",
      "        self.player = player\n",
      "        self.length = lengthgame\n",
      "    \n",
      "    def play(self):\n",
      "        for _ in range(self.length):\n",
      "            total_roll = 0\n",
      "            total_roll += diceroll()\n",
      "            num_rolls = 1\n",
      "            rolled_one = False\n",
      "            if total_roll is 1:  \n",
      "                continue\n",
      "            while self.player.hit_or_stand(total_roll, num_rolls) == \"hit\":\n",
      "                new_roll = diceroll()\n",
      "                num_rolls += 1\n",
      "                if new_roll is 1:\n",
      "                    rolled_one = True\n",
      "                    break\n",
      "                total_roll += new_roll\n",
      "            if not rolled_one:\n",
      "                self.player.score += total_roll\n",
      "        return self.player.score\n",
      "    \n",
      "    def reset_game(self):\n",
      "        self.player.reset_score()\n",
      "            "
     ],
     "language": "python",
     "metadata": {},
     "outputs": [],
     "prompt_number": 440
    },
    {
     "cell_type": "code",
     "collapsed": false,
     "input": [
      "my_basic_player = Player()\n",
      "my_basic_game = Game(my_basic_player)\n",
      "result = my_game.play()\n",
      "print(result)\n",
      "my_game.reset_game()"
     ],
     "language": "python",
     "metadata": {},
     "outputs": [
      {
       "output_type": "stream",
       "stream": "stdout",
       "text": [
        "21\n"
       ]
      }
     ],
     "prompt_number": 441
    },
    {
     "cell_type": "markdown",
     "metadata": {},
     "source": [
      "So now that we have a working game loop, let's see some stats on the basic player."
     ]
    },
    {
     "cell_type": "code",
     "collapsed": false,
     "input": [
      "def run_n_trials(game, n=5000):\n",
      "    player_game_results = []\n",
      "    game.reset_game()\n",
      "    for _ in range(n):\n",
      "        player_game_results.append(game.play())\n",
      "        game.reset_game()\n",
      "    return player_game_results\n",
      "basic_player_game_results = run_n_trials(my_basic_game)\n",
      "#print(basic_player_game_results)"
     ],
     "language": "python",
     "metadata": {},
     "outputs": [],
     "prompt_number": 442
    },
    {
     "cell_type": "code",
     "collapsed": false,
     "input": [
      "plt.boxplot(basic_player_game_results)\n",
      "ymin, ymax = plt.ylim()\n",
      "plt.ylim(0, ymax + 10)\n",
      "plt.xticks(range(1), \"Basic\")\n",
      "plt.show()"
     ],
     "language": "python",
     "metadata": {},
     "outputs": [
      {
       "metadata": {},
       "output_type": "display_data",
       "png": "[encoded data removed]",
       "text": [
        "<matplotlib.figure.Figure at 0x11185a940>"
       ]
      }
     ],
     "prompt_number": 443
    },
    {
     "cell_type": "markdown",
     "metadata": {},
     "source": [
      "Because you have an equally likely chance of rolling a 1 and losing your accumulated points at any given time, I can't currently think of a way to base game strategy on anything other than the number of times you're willing to hit before standing. Later we'll want to incorporate opponent scores and history, but for now we'll stick with numbers."
     ]
    },
    {
     "cell_type": "code",
     "collapsed": false,
     "input": [
      "class HitOncePlayer(Player):\n",
      "    def hit_or_stand(self, current_sum, num_rolls):\n",
      "        if num_rolls < 3:\n",
      "            return \"hit\"\n",
      "        else:\n",
      "            return \"stand\""
     ],
     "language": "python",
     "metadata": {},
     "outputs": [],
     "prompt_number": 444
    },
    {
     "cell_type": "code",
     "collapsed": false,
     "input": [
      "my_hit_once_player = HitOncePlayer()\n",
      "my_hit_once_game = Game(my_hit_once_player)\n",
      "hit_once_results = run_n_trials(my_hit_once_game)\n",
      "#print(hit_once_results)"
     ],
     "language": "python",
     "metadata": {},
     "outputs": [],
     "prompt_number": 445
    },
    {
     "cell_type": "markdown",
     "metadata": {},
     "source": [
      "We make a player that will roll dice twice, and now we can compare our two players side by side!"
     ]
    },
    {
     "cell_type": "code",
     "collapsed": false,
     "input": [
      "plt.boxplot([basic_player_game_results, hit_once_results])\n",
      "ymin, ymax = plt.ylim()\n",
      "plt.ylim(0, ymax + 10)\n",
      "plt.xticks(range(4), [\"\",\"Basic\", \"Roll Twice\", \"\"])\n",
      "plt.show()"
     ],
     "language": "python",
     "metadata": {},
     "outputs": [
      {
       "metadata": {},
       "output_type": "display_data",
       "png": "[encoded data removed]",
       "text": [
        "<matplotlib.figure.Figure at 0x11133ada0>"
       ]
      }
     ],
     "prompt_number": 446
    },
    {
     "cell_type": "markdown",
     "metadata": {},
     "source": [
      "Rolling twice is *way* more effective than immediately standing."
     ]
    },
    {
     "cell_type": "markdown",
     "metadata": {},
     "source": [
      "Obviously we must create some way to run these trials with players that roll n times."
     ]
    },
    {
     "cell_type": "code",
     "collapsed": false,
     "input": [
      "class HitNTimesPlayer(Player):\n",
      "    def __init__(self, hit_number=0, score=0):\n",
      "        self.score = score\n",
      "        self.hit_number = hit_number\n",
      "    \n",
      "    def hit_or_stand(self, current_sum, num_rolls):\n",
      "        if num_rolls < self.hit_number + 2:\n",
      "            return \"hit\"\n",
      "        else:\n",
      "            return \"stand\""
     ],
     "language": "python",
     "metadata": {},
     "outputs": [],
     "prompt_number": 447
    },
    {
     "cell_type": "code",
     "collapsed": false,
     "input": [
      "roll_thrice_player = HitNTimesPlayer(2)\n",
      "roll_thrice_game = Game(roll_thrice_player)\n",
      "roll_thrice_results = run_n_trials(roll_thrice_game)"
     ],
     "language": "python",
     "metadata": {},
     "outputs": [],
     "prompt_number": 448
    },
    {
     "cell_type": "code",
     "collapsed": false,
     "input": [
      "plt.boxplot([basic_player_game_results, hit_once_results, roll_thrice_results])\n",
      "ymin, ymax = plt.ylim()\n",
      "plt.ylim(ymin - 10, ymax + 10)\n",
      "plt.xticks(range(5), [\"\", \"Basic\", \"Roll Twice\", \"Roll Thrice\", \"\"])\n",
      "plt.show()"
     ],
     "language": "python",
     "metadata": {},
     "outputs": [
      {
       "metadata": {},
       "output_type": "display_data",
       "png": "[encoded data removed]",
       "text": [
        "<matplotlib.figure.Figure at 0x1113c6ac8>"
       ]
      }
     ],
     "prompt_number": 449
    },
    {
     "cell_type": "markdown",
     "metadata": {},
     "source": [
      "Now *this* is interesting. Rolling three times has a smaller variance than rolling twice, and is apparently a bit less successful... uh, until I run 5000 samples each. Then three rolls becomes slightly more successful and much more widely dispersed. On to four rolls."
     ]
    },
    {
     "cell_type": "code",
     "collapsed": false,
     "input": [
      "roll_four_player = HitNTimesPlayer(3)\n",
      "roll_four_game = Game(roll_four_player)\n",
      "roll_four_results = run_n_trials(roll_four_game)"
     ],
     "language": "python",
     "metadata": {},
     "outputs": [],
     "prompt_number": 450
    },
    {
     "cell_type": "code",
     "collapsed": false,
     "input": [
      "roll_five_player = HitNTimesPlayer(4)\n",
      "roll_five_game = Game(roll_five_player)\n",
      "roll_five_results = run_n_trials(roll_five_game)"
     ],
     "language": "python",
     "metadata": {},
     "outputs": [],
     "prompt_number": 451
    },
    {
     "cell_type": "code",
     "collapsed": false,
     "input": [
      "roll_six_player = HitNTimesPlayer(5)\n",
      "roll_six_game = Game(roll_six_player)\n",
      "roll_six_results = run_n_trials(roll_six_game)"
     ],
     "language": "python",
     "metadata": {},
     "outputs": [],
     "prompt_number": 452
    },
    {
     "cell_type": "code",
     "collapsed": false,
     "input": [
      "roll_seven_player = HitNTimesPlayer(6)\n",
      "roll_seven_game = Game(roll_seven_player)\n",
      "roll_seven_results = run_n_trials(roll_seven_game)"
     ],
     "language": "python",
     "metadata": {},
     "outputs": [],
     "prompt_number": 453
    },
    {
     "cell_type": "code",
     "collapsed": false,
     "input": [
      "roll_eight_player = HitNTimesPlayer(7)\n",
      "roll_eight_game = Game(roll_eight_player)\n",
      "roll_eight_results = run_n_trials(roll_eight_game)"
     ],
     "language": "python",
     "metadata": {},
     "outputs": [],
     "prompt_number": 454
    },
    {
     "cell_type": "code",
     "collapsed": false,
     "input": [
      "result_list=[basic_player_game_results, hit_once_results, roll_thrice_results, roll_four_results, roll_five_results, roll_six_results, roll_seven_results, roll_eight_results]\n",
      "plt.boxplot(result_list)\n",
      "ymin, ymax = plt.ylim()\n",
      "plt.ylim(ymin - 10, ymax + 10)\n",
      "plt.xticks(range(10), [\"\", \"Basic\", \"Roll 2\", \"Roll 3\", \"Roll 4\", \"Roll 5\", \"Roll 6\", \"Roll 7\", \"Roll 8\", \"\"])\n",
      "plt.show()"
     ],
     "language": "python",
     "metadata": {},
     "outputs": [
      {
       "metadata": {},
       "output_type": "display_data",
       "png": "[encoded data removed]",
       "text": [
        "<matplotlib.figure.Figure at 0x111342438>"
       ]
      }
     ],
     "prompt_number": 455
    },
    {
     "cell_type": "markdown",
     "metadata": {},
     "source": [
      "So! The median scores seem about greatest for rolling four times, and the variance is grows until about seven. And then there are some misty looking outliers rising from the top of seven and eight."
     ]
    },
    {
     "cell_type": "code",
     "collapsed": false,
     "input": [
      "trial_means = [statistics.mean(result) for result in result_list]\n",
      "\n",
      "plt.plot(trial_means)\n",
      "plt.title(\"Mean score for basic n-roll strategies\")\n",
      "plt.xticks(range(8), [\"Roll {}\".format(n+1) for n in range(8)] )\n"
     ],
     "language": "python",
     "metadata": {},
     "outputs": [
      {
       "metadata": {},
       "output_type": "pyout",
       "prompt_number": 456,
       "text": [
        "([<matplotlib.axis.XTick at 0x11183c320>,\n",
        "  <matplotlib.axis.XTick at 0x11183c5f8>,\n",
        "  <matplotlib.axis.XTick at 0x1113fb048>,\n",
        "  <matplotlib.axis.XTick at 0x1118aee48>,\n",
        "  <matplotlib.axis.XTick at 0x11142e240>,\n",
        "  <matplotlib.axis.XTick at 0x1113ebba8>,\n",
        "  <matplotlib.axis.XTick at 0x1113ebe80>,\n",
        "  <matplotlib.axis.XTick at 0x1113209e8>],\n",
        " <a list of 8 Text xticklabel objects>)"
       ]
      },
      {
       "metadata": {},
       "output_type": "display_data",
       "png": "[encoded data removed]",
       "text": [
        "<matplotlib.figure.Figure at 0x1113e0dd8>"
       ]
      }
     ],
     "prompt_number": 456
    },
    {
     "cell_type": "code",
     "collapsed": false,
     "input": [
      "trial_medians = [statistics.median(result) for result in result_list]\n",
      "\n",
      "plt.plot(trial_medians)\n",
      "plt.title(\"Median score for basic n-roll strategies\")\n",
      "plt.xticks(range(8), [\"Roll {}\".format(n+1) for n in range(8)] )\n"
     ],
     "language": "python",
     "metadata": {},
     "outputs": [
      {
       "metadata": {},
       "output_type": "pyout",
       "prompt_number": 457,
       "text": [
        "([<matplotlib.axis.XTick at 0x1113a1cf8>,\n",
        "  <matplotlib.axis.XTick at 0x111a2c320>,\n",
        "  <matplotlib.axis.XTick at 0x1118d3400>,\n",
        "  <matplotlib.axis.XTick at 0x11176ca20>,\n",
        "  <matplotlib.axis.XTick at 0x111a1dc18>,\n",
        "  <matplotlib.axis.XTick at 0x111188f28>,\n",
        "  <matplotlib.axis.XTick at 0x11137b1d0>,\n",
        "  <matplotlib.axis.XTick at 0x111348e80>],\n",
        " <a list of 8 Text xticklabel objects>)"
       ]
      },
      {
       "metadata": {},
       "output_type": "display_data",
       "png": "[encoded data removed]",
       "text": [
        "<matplotlib.figure.Figure at 0x11189e5f8>"
       ]
      }
     ],
     "prompt_number": 457
    },
    {
     "cell_type": "markdown",
     "metadata": {},
     "source": [
      "Looking at median scores may not be as illuminating as looking at mean scores."
     ]
    },
    {
     "cell_type": "code",
     "collapsed": false,
     "input": [],
     "language": "python",
     "metadata": {},
     "outputs": [],
     "prompt_number": 457
    }
   ],
   "metadata": {}
  }
 ]
}